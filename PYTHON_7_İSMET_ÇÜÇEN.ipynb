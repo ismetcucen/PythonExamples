{
  "nbformat": 4,
  "nbformat_minor": 0,
  "metadata": {
    "colab": {
      "provenance": [],
      "include_colab_link": true
    },
    "kernelspec": {
      "name": "python3",
      "display_name": "Python 3"
    }
  },
  "cells": [
    {
      "cell_type": "markdown",
      "metadata": {
        "id": "view-in-github",
        "colab_type": "text"
      },
      "source": [
        "<a href=\"https://colab.research.google.com/github/ismetcucen/PythonExamples/blob/main/PYTHON_7_%C4%B0SMET_%C3%87%C3%9C%C3%87EN.ipynb\" target=\"_parent\"><img src=\"https://colab.research.google.com/assets/colab-badge.svg\" alt=\"Open In Colab\"/></a>"
      ]
    },
    {
      "cell_type": "markdown",
      "source": [
        "**Yazar:İsmet ÇÜÇEN** ismet.cucen@bahcesehir.k12.tr"
      ],
      "metadata": {
        "id": "mkvxcheCWSRW"
      }
    },
    {
      "cell_type": "markdown",
      "source": [
        "Bu çalışma defteri Google Colab üzerinde oluşturulmuştur. Google Colab, herhangi bir altyapı düzenlemesine ihtiyaç duymadan Web tabanlı olarak Python kodları yazmanıza ve çalıştırmanıza imkan veren ücretsiz bir platformdur."
      ],
      "metadata": {
        "id": "i1lpvZ0WWBAw"
      }
    },
    {
      "cell_type": "markdown",
      "source": [
        "# MODÜL 1"
      ],
      "metadata": {
        "id": "qDyhTN1CRruK"
      }
    },
    {
      "cell_type": "markdown",
      "source": [
        "Bu bölümde;\n",
        "\n",
        "\n",
        "*   İlk bilgisayar programımız,\n",
        "\n",
        "\n",
        "\n",
        "\n"
      ],
      "metadata": {
        "id": "isHMvBQDU2b_"
      }
    },
    {
      "cell_type": "code",
      "source": [
        "#İlk kodumuzu yazıyoruz\n",
        "print (\"Merhaba Dünya\")"
      ],
      "metadata": {
        "colab": {
          "base_uri": "https://localhost:8080/"
        },
        "id": "lzE53llAmYCo",
        "outputId": "9b08d06b-316a-47d4-d041-f02e5cfe4d49"
      },
      "execution_count": null,
      "outputs": [
        {
          "output_type": "stream",
          "name": "stdout",
          "text": [
            "Merhaba Dünya\n"
          ]
        }
      ]
    },
    {
      "cell_type": "markdown",
      "metadata": {
        "id": "eS7gsXwvFDcN"
      },
      "source": [
        "# MODÜL 2 <br>\n",
        "**Yorum Satırları, Değişkenler, Veri Tipleri ve Operatörler**<br>\n"
      ]
    },
    {
      "cell_type": "markdown",
      "metadata": {
        "id": "O7q_ZPK-nftU"
      },
      "source": [
        "**Örnek 1**"
      ]
    },
    {
      "cell_type": "code",
      "metadata": {
        "id": "UBZWEEQCHew2",
        "colab": {
          "base_uri": "https://localhost:8080/"
        },
        "outputId": "c6cf9198-20ab-467d-9bd3-5516bb035a9d"
      },
      "source": [
        "#Bu kod ekrana yazı yazılmasını sağlamaktadır.\n",
        "print (\"Konu: Yorum satırlarını kullanma\")\n",
        "#Her satırın başına # işareti ekleyerek\n",
        "#Alt alta yorum satırları oluşturabilirsiniz."
      ],
      "execution_count": null,
      "outputs": [
        {
          "output_type": "stream",
          "name": "stdout",
          "text": [
            "Konu: Yorum satırlarını kullanma\n"
          ]
        }
      ]
    },
    {
      "cell_type": "markdown",
      "metadata": {
        "id": "AK0ukN-VCvFD"
      },
      "source": [
        "**Örnek 2**<br>\n",
        "Yorum satırlarını kod satırının devamında aynı satırda kullanabilirsiniz. Bu kullanımda önce kod gelir,\n",
        "devamında yorum satırı “#” işareti ile başlar (öndeki kod çalışır), daha sonra satır sonuna kadar yorum\n",
        "satırı olarak dikkate alınmaz."
      ]
    },
    {
      "cell_type": "code",
      "metadata": {
        "id": "SPXx2ObUC4a5",
        "colab": {
          "base_uri": "https://localhost:8080/"
        },
        "outputId": "40d41b55-e2a6-474c-e7cb-85ecae3f5bb3"
      },
      "source": [
        "print (2+3) # Bu kod satırı ekrana 2 sayının toplamını yazar"
      ],
      "execution_count": null,
      "outputs": [
        {
          "output_type": "stream",
          "name": "stdout",
          "text": [
            "5\n"
          ]
        }
      ]
    },
    {
      "cell_type": "markdown",
      "metadata": {
        "id": "7NzSDlziDn6r"
      },
      "source": [
        "**Örnek 3**<br>Birden fazla yorum satırı kullanılacaksa yorumlar üçlü tek tırnak veya üçlü çift tırnak blokları arasına\n",
        "yazılır."
      ]
    },
    {
      "cell_type": "code",
      "metadata": {
        "id": "rOnLzSKnDu55",
        "colab": {
          "base_uri": "https://localhost:8080/",
          "height": 53
        },
        "outputId": "7fa22c12-1316-4520-9f04-b1d20e9461c7"
      },
      "source": [
        "'''Python’da birden fazla\n",
        "açıklama satırı\n",
        "kullanmak için üçlü tek tırnak veya çift tırnak\n",
        "kullanılır açıklama satırını bitirmek için\n",
        "aynı şekilde kullanılır'''"
      ],
      "execution_count": null,
      "outputs": [
        {
          "output_type": "execute_result",
          "data": {
            "text/plain": [
              "'Python’da birden fazla\\naçıklama satırı\\nkullanmak için üçlü tek tırnak veya çift tırnak\\nkullanılır açıklama satırını bitirmek için\\naynı şekilde kullanılır'"
            ],
            "application/vnd.google.colaboratory.intrinsic+json": {
              "type": "string"
            }
          },
          "metadata": {},
          "execution_count": 2
        }
      ]
    },
    {
      "cell_type": "markdown",
      "metadata": {
        "id": "JGMjNcoxEx-_"
      },
      "source": [
        "**Örnek 4**<br>Yorum satırlarını Python yorumlayıcı dikkate almaz. Ancak aşağıdaki kod satırları yorum satırı olarak\n",
        "değerlendirilmez."
      ]
    },
    {
      "cell_type": "code",
      "metadata": {
        "id": "CwxQLW9nEvnu"
      },
      "source": [
        "#!/usr/bin/env python3 veya #!c:/Python/python.exe\n",
        "# -*- coding: utf-8 -*-"
      ],
      "execution_count": null,
      "outputs": []
    },
    {
      "cell_type": "markdown",
      "metadata": {
        "id": "9lW80SeXI-Cn"
      },
      "source": [
        "**Örnek 5**<br>Yorum satırları süsleme amacıyla da kullanılabilir. Bazı program dosyalarında aşağıdaki gibi süslü açıklamalar, etiketler görülebilir."
      ]
    },
    {
      "cell_type": "code",
      "metadata": {
        "id": "IAS2pd_uJXai",
        "colab": {
          "base_uri": "https://localhost:8080/",
          "height": 71
        },
        "outputId": "fbddff96-cb11-4cc5-ec62-9f3b4525ebec"
      },
      "source": [
        "'''\n",
        "#############################################################\n",
        "##*********************************************************##\n",
        "##                   Python Öğreniyorum                    ##\n",
        "##                      Python 3                           ##\n",
        "##*********************************************************##\n",
        "##############################################################\n",
        "'''\n"
      ],
      "execution_count": null,
      "outputs": [
        {
          "output_type": "execute_result",
          "data": {
            "text/plain": [
              "'\\n#############################################################\\n##*********************************************************##\\n##                   Python Öğreniyorum                    ##\\n##                      Python 3                           ##\\n##*********************************************************##\\n##############################################################\\n'"
            ],
            "application/vnd.google.colaboratory.intrinsic+json": {
              "type": "string"
            }
          },
          "metadata": {},
          "execution_count": 4
        }
      ]
    },
    {
      "cell_type": "markdown",
      "metadata": {
        "id": "9VREbHEtF0Uc"
      },
      "source": [
        "# **Değişkenler**\n",
        "\n",
        "Değişkenler değerleri depolamak için kullanılır. Böylece daha sonra bu değişkenler program içinden çağırılarak atanan değer tekrar ve tekrar kullanılabilir. Değişkenlere metinler ve / veya sayılar atanabilir. Sayı atamaları direkt rakamların yazılması ile gerçekleştirilirken, metin atamalarında metin tek tırnak içinde ( 'abc' ) ya da çift tırnak ( \"abc\" ) içinde atanır.\n",
        "\n",
        "Değişkenler etiketlere benzer ve atama operatörü olarak adlandırılan eşittir ( = ) operatörü ile bir değişkene bir değer atanabilir.\n"
      ]
    },
    {
      "cell_type": "markdown",
      "metadata": {
        "id": "UKOCyPWxMY-u"
      },
      "source": [
        "**Örnek 6**<br>\n",
        "\n"
      ]
    },
    {
      "cell_type": "markdown",
      "source": [
        "adSoyad = \"İsmet ÇÜÇEN\"\n",
        "\n",
        "print(\"Adı Soyadı: \" + adSoyad)"
      ],
      "metadata": {
        "id": "xTVv6tyZk_55"
      }
    },
    {
      "cell_type": "code",
      "source": [
        "#Şimdi sıra sende kendi ad ve soyadını ekranda yazdır.\n",
        "\n"
      ],
      "metadata": {
        "id": "NPZeIcpbkzQn"
      },
      "execution_count": null,
      "outputs": []
    },
    {
      "cell_type": "markdown",
      "metadata": {
        "id": "WcpAxFMRjP45"
      },
      "source": [
        "<br>**Örnek 7**<br>\n",
        "Şimdi en sevdiğiniz yemeği değişken olarak tanımlayıp ekrana yazdıralım.\n",
        "\n",
        "sevdigimYemek = \"cagkebap\"\n",
        "\n",
        "print (sevdigimYemek)"
      ]
    },
    {
      "cell_type": "code",
      "metadata": {
        "id": "4M5cVg0RLvAI"
      },
      "source": [
        "#Şimdi sıra sende en sevdiğin yemeği ekranda yazdır."
      ],
      "execution_count": null,
      "outputs": []
    },
    {
      "cell_type": "markdown",
      "source": [],
      "metadata": {
        "id": "8vxLlUg-n2Lj"
      }
    },
    {
      "cell_type": "markdown",
      "metadata": {
        "id": "kKh_XY7d51_6"
      },
      "source": [
        "**Örnek 8**<br>\n",
        "Değişkenler aralarına virgül eklenerek yan yana yazılır. Değerleri de aynı sıralama ile karşılarına yazılır."
      ]
    },
    {
      "cell_type": "code",
      "metadata": {
        "id": "zb08ZKtawONQ",
        "colab": {
          "base_uri": "https://localhost:8080/"
        },
        "outputId": "20e8daa7-9dea-465a-d204-26de06914e15"
      },
      "source": [
        "adi, soyadi, yasi='İsmet', 'ÇÜÇEN', 34\n",
        "print (\"Adı=\", adi)\n",
        "print (\"Soyadı=\", soyadi,)\n",
        "print (\"Yaşı=\", yasi)"
      ],
      "execution_count": null,
      "outputs": [
        {
          "output_type": "stream",
          "name": "stdout",
          "text": [
            "Adı= İsmet\n",
            "Soyadı= ÇÜÇEN\n",
            "Yaşı= 34\n"
          ]
        }
      ]
    },
    {
      "cell_type": "markdown",
      "metadata": {
        "id": "PNrDDnPk7CLy"
      },
      "source": [
        "**Örnek 9**<br>\n",
        "Değer atanmayan ve/veya tanımlanmamış bir değişken kullanılırsa  Python hata verir."
      ]
    },
    {
      "cell_type": "code",
      "metadata": {
        "id": "jM-KWHNd8Zyj",
        "colab": {
          "base_uri": "https://localhost:8080/",
          "height": 214
        },
        "outputId": "dc567592-32a1-4c73-b3d6-4fc58a119200"
      },
      "source": [
        "print (İSMET)\n",
        "#Python değişkenleri değer atandığında tanımlandığı için hata mesajını alırsınız.\n",
        "# yenisayi değişkeni tanımlanmamış olduğu için hata mesajı alınır.\n"
      ],
      "execution_count": null,
      "outputs": [
        {
          "output_type": "error",
          "ename": "NameError",
          "evalue": "ignored",
          "traceback": [
            "\u001b[0;31m---------------------------------------------------------------------------\u001b[0m",
            "\u001b[0;31mNameError\u001b[0m                                 Traceback (most recent call last)",
            "\u001b[0;32m<ipython-input-10-1eef22b8536b>\u001b[0m in \u001b[0;36m<cell line: 1>\u001b[0;34m()\u001b[0m\n\u001b[0;32m----> 1\u001b[0;31m \u001b[0mprint\u001b[0m \u001b[0;34m(\u001b[0m\u001b[0mİSMET\u001b[0m\u001b[0;34m)\u001b[0m\u001b[0;34m\u001b[0m\u001b[0;34m\u001b[0m\u001b[0m\n\u001b[0m\u001b[1;32m      2\u001b[0m \u001b[0;31m#Python değişkenleri değer atandığında tanımlandığı için hata mesajını alırsınız.\u001b[0m\u001b[0;34m\u001b[0m\u001b[0;34m\u001b[0m\u001b[0m\n\u001b[1;32m      3\u001b[0m \u001b[0;31m# yenisayi değişkeni tanımlanmamış olduğu için hata mesajı alınır.\u001b[0m\u001b[0;34m\u001b[0m\u001b[0;34m\u001b[0m\u001b[0m\n",
            "\u001b[0;31mNameError\u001b[0m: name 'İSMET' is not defined"
          ]
        }
      ]
    },
    {
      "cell_type": "markdown",
      "metadata": {
        "id": "NlhIZwYDjsza"
      },
      "source": [
        "**UYARI:Python programlama dilinde reserve sözcükler kullanılamaz. Bu özel sözcüklerin listesini görmek için aşağıdaki kodu kullanabilirsiniz.**"
      ]
    },
    {
      "cell_type": "code",
      "metadata": {
        "id": "UPFgxZATl7Tx",
        "colab": {
          "base_uri": "https://localhost:8080/"
        },
        "outputId": "6d3182de-1d38-443f-8a8d-b69dd16347db"
      },
      "source": [
        "import keyword\n",
        "keyword.kwlist"
      ],
      "execution_count": null,
      "outputs": [
        {
          "output_type": "execute_result",
          "data": {
            "text/plain": [
              "['False',\n",
              " 'None',\n",
              " 'True',\n",
              " 'and',\n",
              " 'as',\n",
              " 'assert',\n",
              " 'async',\n",
              " 'await',\n",
              " 'break',\n",
              " 'class',\n",
              " 'continue',\n",
              " 'def',\n",
              " 'del',\n",
              " 'elif',\n",
              " 'else',\n",
              " 'except',\n",
              " 'finally',\n",
              " 'for',\n",
              " 'from',\n",
              " 'global',\n",
              " 'if',\n",
              " 'import',\n",
              " 'in',\n",
              " 'is',\n",
              " 'lambda',\n",
              " 'nonlocal',\n",
              " 'not',\n",
              " 'or',\n",
              " 'pass',\n",
              " 'raise',\n",
              " 'return',\n",
              " 'try',\n",
              " 'while',\n",
              " 'with',\n",
              " 'yield']"
            ]
          },
          "metadata": {},
          "execution_count": 1
        }
      ]
    },
    {
      "cell_type": "markdown",
      "metadata": {
        "id": "tIxzVl308uOq"
      },
      "source": [
        "# Değişken isimlerinde uyulması gereken bir takım kurallar vardır:\n",
        "\n",
        "* Rakam ile başlayamaz.\n",
        "* Boşluk kullanılamaz.\n",
        "* Alt tire ( _ ) haricinde bir noktalama işareti kullanılamaz.\n",
        "* Python içinde yerleşik olarak tanımlanmış anahtar kelimeler kullanılamaz (ör: print).\n",
        "* Türkçe karakterler değişken isimlerinde kullanılabilir.\n",
        "* Dikkat: Değişken isimleri büyük-küçük harfe duyarlıdır.\n",
        "\n",
        "\n",
        "\n"
      ]
    },
    {
      "cell_type": "markdown",
      "metadata": {
        "id": "cw5JnHhK7QvR"
      },
      "source": [
        "# DEĞİŞKEN İÇERİSİNDEKİ VERİ TİPİNİ ÖĞRENME"
      ]
    },
    {
      "cell_type": "markdown",
      "metadata": {
        "id": "_6G4A-p5y89f"
      },
      "source": [
        "Python Programlamada bir verinin ya da değişken içerisindeki verinin tipini öğrenmek için type( )\n",
        "fonksiyonu kullanılır.\n",
        "\n",
        "print(type(\"alanyabahçeşehirkoleji\"))\n"
      ]
    },
    {
      "cell_type": "markdown",
      "source": [
        "**Örnek 10:** Aşağıda verilen değişkenlerin veri tiplerini öğreniniz.\n",
        "\n",
        "\n",
        "\n",
        "*   \"damlataş\"\n",
        "*   2023\n",
        "*   46.7\n",
        "*   \"1923\"\n",
        "*   \"doksaniki\"\n",
        "\n",
        "\n",
        "\n",
        "\n",
        "\n",
        "\n"
      ],
      "metadata": {
        "id": "d4ECeKSFp7yr"
      }
    },
    {
      "cell_type": "code",
      "metadata": {
        "id": "m2O4d46EzCWQ",
        "colab": {
          "base_uri": "https://localhost:8080/"
        },
        "outputId": "6901472d-d031-4684-f016-75a47583ac40"
      },
      "source": [
        "#Sıra sende.Yukarıdaki değişkenlerin veri tiplerini öğren.\n",
        "print(type(\"1923\"))\n"
      ],
      "execution_count": 1,
      "outputs": [
        {
          "output_type": "stream",
          "name": "stdout",
          "text": [
            "<class 'str'>\n"
          ]
        }
      ]
    },
    {
      "cell_type": "markdown",
      "source": [
        "# STRİNG :KARAKTER (METİNSEL)\n",
        "\n",
        "# FLOAT:ONDALIK SAYI\n",
        "\n",
        "# İNTEGER:SAYISAL"
      ],
      "metadata": {
        "id": "9qYqMDDovyMr"
      }
    },
    {
      "cell_type": "markdown",
      "source": [
        "## **STRİNG İŞLEMLERİ**\n",
        "\n",
        "Python dili çift tırnak \"..\",tek tırnak '...',veya üç tırnak ''' ....''' içerisine yazılan herşeyi string (karakter dizisi) olarak algılar.\n",
        "\n",
        "\n",
        "\n",
        "**Len()** Fonksiyonu :String ifadelerinin karakter sayısını belirlemede kullanılan fonksiyondur.\n",
        "\n",
        "\n",
        "\n",
        "**Örnek 11:**\n",
        "\n",
        "film = \"görevimiztehlike\"\n",
        "\n",
        "print (len(film)"
      ],
      "metadata": {
        "id": "xutQDbQGvMyi"
      }
    },
    {
      "cell_type": "code",
      "source": [
        "#Şimdi sıra sende. otel = \"goldcityhotel\" ifadesinin karakter sayısını bulunuz."
      ],
      "metadata": {
        "id": "IlWrvqOvw930"
      },
      "execution_count": null,
      "outputs": []
    },
    {
      "cell_type": "code",
      "source": [
        "otel = \"goldcityhotel\"\n",
        "print(len(otel))"
      ],
      "metadata": {
        "colab": {
          "base_uri": "https://localhost:8080/"
        },
        "id": "p2UXBqsnrvd5",
        "outputId": "bdcc1643-5d15-4079-dead-7bbf7007c505"
      },
      "execution_count": null,
      "outputs": [
        {
          "output_type": "stream",
          "name": "stdout",
          "text": [
            "13\n"
          ]
        }
      ]
    },
    {
      "cell_type": "markdown",
      "source": [
        "**Lower()** Fonksiyonu :String değişkenin içerisindeki veriyi küçük harfe çevirir.\n",
        "\n",
        "**Örnek 12:**\n",
        "\n",
        "metin = \"BUGÜN YEMEKTE ACABA NE VAR?\"\n",
        "\n",
        "kucuk_harf = metin.lower()\n",
        "\n",
        "print (kucuk_harf)"
      ],
      "metadata": {
        "id": "1i3yolxCxkXI"
      }
    },
    {
      "cell_type": "code",
      "source": [
        "#metin =\"BU YIL ALANYA TURİST REKORU KIRDI\" ifadesinin küçük harfli ifadeye çeviriniz.\n",
        "metin = \"BU YIL ALANYA TURİST REKORU KIRDI\"\n",
        "kucuk_harf = metin.lower()\n",
        "print (kucuk_harf)"
      ],
      "metadata": {
        "id": "J7sVKGoQxj5Q",
        "colab": {
          "base_uri": "https://localhost:8080/"
        },
        "outputId": "13c4236f-69f4-4674-8610-270fd7e9c9f2"
      },
      "execution_count": null,
      "outputs": [
        {
          "output_type": "stream",
          "name": "stdout",
          "text": [
            "bu yil alanya turi̇st rekoru kirdi\n"
          ]
        }
      ]
    },
    {
      "cell_type": "markdown",
      "source": [
        "**Upper()** Fonksiyonu :String değişkenin içerisindeki veriyi büyük harfe çevirir.\n",
        "\n",
        "**Örnek 13 :**\n",
        "\n",
        "metin= \"yolumuz çok uzun\"\n",
        "\n",
        "buyuk_harf = metin.upper()\n",
        "\n",
        "print (buyuk_harf)"
      ],
      "metadata": {
        "id": "APuTXgLkyrO6"
      }
    },
    {
      "cell_type": "code",
      "source": [
        "# metin = \"en sevdiğim tatil alanı izmir foça\"\n"
      ],
      "metadata": {
        "id": "bVscXTgnzEZl"
      },
      "execution_count": null,
      "outputs": []
    },
    {
      "cell_type": "markdown",
      "source": [
        "# Format() Fonksiyonu\n",
        "Bir sözel ifade içerisine değişken değeri yazdırmak için format () komutu kullanılır.\n"
      ],
      "metadata": {
        "id": "oesT685y01Tv"
      }
    },
    {
      "cell_type": "markdown",
      "source": [
        "**Örnek 14:**\n",
        "\n",
        "not_1 =85\n",
        "\n",
        "not_2 =95\n",
        "\n",
        "ortalama = (not_1 + not_2) / 2\n",
        "\n",
        "metin = \"Notları {} ve {} olan öğrencinin ortalaması {} ' dır.\n",
        "\n",
        "print(metin.format(not_1,not_2 ,ortalama))"
      ],
      "metadata": {
        "id": "KRyswYO41Soi"
      }
    },
    {
      "cell_type": "code",
      "source": [
        "not_1 = 20\n",
        "not_2 = 80\n",
        "ortalama = (not_1 + not_2) / 2\n",
        "metin = \"Notları{} ve {} olan öğrencinin ortalaması {} dır.\"\n",
        "print (metin.format(not_1 ,not_2, ortalama))"
      ],
      "metadata": {
        "colab": {
          "base_uri": "https://localhost:8080/"
        },
        "id": "ogk4RJya2jkS",
        "outputId": "c558f332-6088-4d2f-8efb-2669e057a1ed"
      },
      "execution_count": 2,
      "outputs": [
        {
          "output_type": "stream",
          "name": "stdout",
          "text": [
            "Notları20 ve 80 olan öğrencinin ortalaması 50.0 dır.\n"
          ]
        }
      ]
    },
    {
      "cell_type": "markdown",
      "source": [
        "# Kullanıcıdan Veri Almak - input () Fonksiyonu\n",
        "\n",
        "Şimdiye kadar hep tanımlanmış değerler üzerinde çalışmalar yaptık.Peki adını,soyadını ,en sevdiği dersi vb. bilgileri kullanıcılardan almak istesek ,input () fonksiyonunu kullanırız.\n",
        "\n",
        "**Örnek 15:**\n",
        "\n",
        "isim = input(\"Adınız:)\n",
        "\n",
        "print(\"Merhaba ,isim)"
      ],
      "metadata": {
        "id": "m_ZHG0L9Cnwd"
      }
    },
    {
      "cell_type": "markdown",
      "source": [],
      "metadata": {
        "id": "QtX0KVgevHYY"
      }
    },
    {
      "cell_type": "code",
      "source": [
        "isim = input(\"Adınız:\")\n",
        "\n",
        "print(\"Merhaba\" ,isim)"
      ],
      "metadata": {
        "id": "cEKi8cyhGTe3"
      },
      "execution_count": null,
      "outputs": []
    },
    {
      "cell_type": "markdown",
      "source": [
        "**Örnek 16:**"
      ],
      "metadata": {
        "id": "itvTTfT0rU2q"
      }
    },
    {
      "cell_type": "code",
      "source": [
        "a=int(input(\"birinci sayıyı giriniz: \"))\n",
        "b=int(input(\"ikinci sayıyı giriniz: \"))\n",
        "print (\"Girdiğiniz sayıların toplamı:  \" ,a+b)"
      ],
      "metadata": {
        "id": "JFucMPcxIrW6"
      },
      "execution_count": null,
      "outputs": []
    },
    {
      "cell_type": "markdown",
      "source": [
        "# **PYTHON İLE KOŞUL YAPILARI**"
      ],
      "metadata": {
        "id": "IYc6GHLzKvPd"
      }
    },
    {
      "cell_type": "markdown",
      "source": [
        "**OPERATÖRLER**\n",
        "Program yazarken aritmetiksel,mantıksal ve karşılaştırma gibi işlemleri gerçekleştirmemizi sağlayan sembollere operatör denir."
      ],
      "metadata": {
        "id": "SeefGgsFLQvT"
      }
    },
    {
      "cell_type": "markdown",
      "metadata": {
        "id": "hcIpLxqOiGHh"
      },
      "source": [
        "# **Aritmetiksel Operatörler**\n",
        "**Toplama (Operatörü)**\n",
        "<br>**Örnek 17:**<br>"
      ]
    },
    {
      "cell_type": "code",
      "metadata": {
        "id": "eJWZ-g9ff7mo",
        "colab": {
          "base_uri": "https://localhost:8080/"
        },
        "outputId": "a986755b-2f96-4a85-91c9-c1196788ca91"
      },
      "source": [
        "print (5+3)\n",
        "print (5+3+3)\n",
        "sayi1=10\n",
        "print (sayi1+5)\n",
        "#Aynı şekilde değişken kullanarak da yapabiliriz.\n",
        "sayi2=10.34\n",
        "print (sayi1+sayi2+5.5) #farklı veri tiplerindeki sayıları ve değişkenleri de kullanabiliriz"
      ],
      "execution_count": null,
      "outputs": [
        {
          "output_type": "stream",
          "name": "stdout",
          "text": [
            "8\n",
            "11\n",
            "15\n",
            "25.84\n"
          ]
        }
      ]
    },
    {
      "cell_type": "markdown",
      "metadata": {
        "id": "CvnQjL2th_3Y"
      },
      "source": [
        "<br>**Örnek 17 :**<br>\n",
        "\n",
        "Toplama operatörünün karakter dizilerinde farklı bir kullanımı vardır: İki veya daha fazla karakter dizisini birleştirmek için kullanılabilir."
      ]
    },
    {
      "cell_type": "code",
      "metadata": {
        "id": "HDmbWMqxj8cb",
        "colab": {
          "base_uri": "https://localhost:8080/"
        },
        "outputId": "ce6bc9af-1a86-4af9-9cb2-31dd38f93b4f"
      },
      "source": [
        "print ('Merhaba ' + 'Mars')\n",
        "metin1='Merhaba ' + 'Mars' + ' nasılsın?'\n",
        "print(metin1)"
      ],
      "execution_count": null,
      "outputs": [
        {
          "output_type": "stream",
          "name": "stdout",
          "text": [
            "Merhaba Mars\n",
            "Merhaba Mars nasılsın?\n"
          ]
        }
      ]
    },
    {
      "cell_type": "markdown",
      "metadata": {
        "id": "2IN66oO2mOzW"
      },
      "source": [
        "**Çıkarma Operatörü**<br>\n",
        "**Örnek 18:**<br>\n",
        "Bu operatör, sayıların farkını bulmak için kullanılır.\n"
      ]
    },
    {
      "cell_type": "code",
      "metadata": {
        "id": "4uT0b73hgDOB"
      },
      "source": [
        "print(5-3)\n",
        "sayi1=5\n",
        "sayi2=3\n",
        "print(sayi1-sayi2)"
      ],
      "execution_count": null,
      "outputs": []
    },
    {
      "cell_type": "markdown",
      "metadata": {
        "id": "2lIrAJ4Do6-E"
      },
      "source": [
        " **Çarpma Operatörü**<br>\n",
        "<br>**Örnek 18:**<br>\n",
        "Çarpma operatörü iki veya daha fazla sayıyı çarpmak için kullanılır."
      ]
    },
    {
      "cell_type": "code",
      "metadata": {
        "id": "pbOk1DQygMr3",
        "colab": {
          "base_uri": "https://localhost:8080/",
          "height": 68
        },
        "outputId": "e006d6bd-ac3f-4bb2-bd18-bab250c37c8d"
      },
      "source": [
        "print(5*3)\n",
        "print(5*3*2)\n",
        "sayi1=5\n",
        "sayi2=3\n",
        "print(sayi1*sayi2)"
      ],
      "execution_count": null,
      "outputs": [
        {
          "output_type": "stream",
          "text": [
            "15\n",
            "30\n",
            "15\n"
          ],
          "name": "stdout"
        }
      ]
    },
    {
      "cell_type": "markdown",
      "metadata": {
        "id": "6fvGMrvoq332"
      },
      "source": [
        "**Bölme Operatörü**\n",
        "<br>**Örnek 19:**<br>\n"
      ]
    },
    {
      "cell_type": "code",
      "metadata": {
        "id": "FX5d41vBlcgf"
      },
      "source": [
        "print (25/5)"
      ],
      "execution_count": null,
      "outputs": []
    },
    {
      "cell_type": "markdown",
      "metadata": {
        "id": "qLgpUel_rK85"
      },
      "source": [
        "**Kuvvet (\\*\\*) Alma**\n",
        "<br>**Örnek 20:**<br>\n",
        "5’in 3. kuvvetinin bulunması:\n"
      ]
    },
    {
      "cell_type": "code",
      "metadata": {
        "id": "tqINf_q0lqiT",
        "colab": {
          "base_uri": "https://localhost:8080/",
          "height": 34
        },
        "outputId": "01e2aa5f-851b-4a9a-e7f8-aace2c7a18ee"
      },
      "source": [
        "print(5**3)"
      ],
      "execution_count": null,
      "outputs": [
        {
          "output_type": "execute_result",
          "data": {
            "text/plain": [
              "125"
            ]
          },
          "metadata": {
            "tags": []
          },
          "execution_count": 53
        }
      ]
    },
    {
      "cell_type": "markdown",
      "metadata": {
        "id": "Dbag2je4r9u9"
      },
      "source": [
        "**Tam Bölüm (//) Operatörü**\n",
        "<br>**Örnek 21:**<br>\n",
        "İki sayının birbirine tam bölüm sonucunu verir. Bölüm sonucu ondalıklı sayı ise ondalıklı kısmını almaz."
      ]
    },
    {
      "cell_type": "code",
      "metadata": {
        "id": "QUrHpECjp3D-",
        "colab": {
          "base_uri": "https://localhost:8080/",
          "height": 34
        },
        "outputId": "812c4c3d-dfef-4d1d-f654-002144dd51ea"
      },
      "source": [
        "print (121.00//3)"
      ],
      "execution_count": null,
      "outputs": [
        {
          "output_type": "stream",
          "text": [
            "40.0\n"
          ],
          "name": "stdout"
        }
      ]
    },
    {
      "cell_type": "markdown",
      "metadata": {
        "id": "26IkZaAqsT8Z"
      },
      "source": [
        "**Mod Alma (%) Operatörü**\n",
        "<br>**Örnek 22:**<br>\n",
        "Bir sayının diğer bir sayıya bölümünden kalanını verir."
      ]
    },
    {
      "cell_type": "code",
      "metadata": {
        "id": "kaQTvHfhmCjk"
      },
      "source": [
        "print (5%3) #Sayının 3 ile bölümünden kalan.\n",
        "print (9%2) #Kalan 0 ise sayı çifttir."
      ],
      "execution_count": null,
      "outputs": []
    },
    {
      "cell_type": "markdown",
      "metadata": {
        "id": "cGTkUYU26Niw"
      },
      "source": [
        "# **Karşılaştırma Operatörleri**\n",
        "\n",
        "**Eşittir (==) Operatürü**\n",
        "<br>**Örnek 23:**<br>\n",
        "“==” operatörü iki değerin birbirine eşit olup olmadığını anlamak için kullanılır. İki değer birbirine\n",
        "eşitse “True”, eşit değilse “False” değeri verir."
      ]
    },
    {
      "cell_type": "code",
      "metadata": {
        "id": "6XwpbZaqzd9h",
        "colab": {
          "base_uri": "https://localhost:8080/",
          "height": 68
        },
        "outputId": "5ea690ae-6e5b-4633-9802-cfe4c6f4ad39"
      },
      "source": [
        "print(5==3)\n",
        "#değişkenlere atadığımız değerleri de aynı şekilde kontrol edebiliriz\n",
        "sayi1=5\n",
        "sayi2=3\n",
        "print(sayi1==sayi2)\n",
        "print(sayi1==5)"
      ],
      "execution_count": null,
      "outputs": [
        {
          "output_type": "stream",
          "text": [
            "False\n",
            "False\n",
            "True\n"
          ],
          "name": "stdout"
        }
      ]
    },
    {
      "cell_type": "markdown",
      "metadata": {
        "id": "kK16oRvS6v9v"
      },
      "source": [
        "<br>**Örnek 24:**<br>“==” Operatörü karakter dizilerinde de değerlerin eşitliğini kontrol etmek için kullanılır."
      ]
    },
    {
      "cell_type": "code",
      "metadata": {
        "id": "HB5SCGahx9QF",
        "colab": {
          "base_uri": "https://localhost:8080/",
          "height": 68
        },
        "outputId": "61bbefba-cab1-4d3b-f7e2-c1c101427ce5"
      },
      "source": [
        "print('Emre'=='emre')\n",
        "# Küçük büyük harf duyarlılığına (case sensetive) dikkat edin.\n",
        "metin1='Emre'\n",
        "metin2='emre'\n",
        "print(metin1==metin2)\n",
        "print(metin1=='Emre')"
      ],
      "execution_count": null,
      "outputs": [
        {
          "output_type": "stream",
          "text": [
            "False\n",
            "False\n",
            "True\n"
          ],
          "name": "stdout"
        }
      ]
    },
    {
      "cell_type": "markdown",
      "metadata": {
        "id": "dettUzM_66lo"
      },
      "source": [
        "**Eşit değildir (!=) Operaötürü**\n",
        "<br>**Örnek 25:**<br>\n",
        "!=” operatörü iki değerin birbirinden farklı olup olmadığını anlamak için kullanılır. “==” operatörü-\n",
        "nün tersine değerler birbirine eşitse “False”, eşit değilse “True” değerini döndürür."
      ]
    },
    {
      "cell_type": "code",
      "metadata": {
        "id": "Cs7Rjg-7xSst",
        "colab": {
          "base_uri": "https://localhost:8080/",
          "height": 68
        },
        "outputId": "03630493-7565-4e28-ad41-9848bf688488"
      },
      "source": [
        "print(5!=3)\n",
        "sayi1=5\n",
        "sayi2=3\n",
        "print(sayi1!=sayi2)\n",
        "print(sayi1!=5)\n",
        "# Çıktıların == operatörünün tersi olduğuna dikkat edin!"
      ],
      "execution_count": null,
      "outputs": [
        {
          "output_type": "stream",
          "text": [
            "True\n",
            "True\n",
            "False\n"
          ],
          "name": "stdout"
        }
      ]
    },
    {
      "cell_type": "markdown",
      "metadata": {
        "id": "DHKZ_1HG8rPN"
      },
      "source": [
        "**Büyüktür (>) Operatörü**<br>\n",
        ">**Örnek 26:**<br>\n",
        "Büyüktür “>” operatörü iki değeri karşılaştırmak için kullanılır. 1. sayı 2. sayıdan büyükse “True” değilse\n",
        "“False” değerini döndürür."
      ]
    },
    {
      "cell_type": "code",
      "metadata": {
        "id": "iTZMKC7H6KUn",
        "colab": {
          "base_uri": "https://localhost:8080/",
          "height": 34
        },
        "outputId": "5d727df5-bd3c-452a-86b8-e75b8b1fe1b4"
      },
      "source": [
        "sayi1=6.06\n",
        "sayi2=6.07\n",
        "print(sayi1>sayi2)"
      ],
      "execution_count": null,
      "outputs": [
        {
          "output_type": "stream",
          "text": [
            "False\n"
          ],
          "name": "stdout"
        }
      ]
    },
    {
      "cell_type": "markdown",
      "metadata": {
        "id": "w7F7E1pFLUPh"
      },
      "source": [
        "“sayi2” değişkenine yeni bir değer atandığını gözden kaçırmayınız."
      ]
    },
    {
      "cell_type": "code",
      "metadata": {
        "id": "WukplzACLa3N"
      },
      "source": [
        "sayi2=6\n",
        "print (sayi1>sayi2)\n",
        "sayi2=6.06\n",
        "print(sayi1>sayi2)"
      ],
      "execution_count": null,
      "outputs": []
    },
    {
      "cell_type": "markdown",
      "metadata": {
        "id": "O83Hbnis9iQt"
      },
      "source": [
        "**Küçüktür (<) Operatörü**\n",
        "<br>**Örnek 27:**<br>\n",
        "Küçüktür “<” operatörü iki değeri karşılaştırmak için kullanılır. 1. sayı 2. sayıdan küçükse “True” değilse\n",
        "“False” değerini döndürür. Büyüktür operatörünün tersi işlevini görür."
      ]
    },
    {
      "cell_type": "code",
      "metadata": {
        "id": "TkbMbtGTN94I",
        "colab": {
          "base_uri": "https://localhost:8080/",
          "height": 34
        },
        "outputId": "9b4410a4-76d2-4f59-8e4f-e5ec2deefe50"
      },
      "source": [
        "sayi1=6.06\n",
        "sayi2=6.07\n",
        "print(sayi1<sayi2)\n",
        "#Kitapta çıktı yanlışlıkla \"False\" olarak verilmiştir."
      ],
      "execution_count": null,
      "outputs": [
        {
          "output_type": "stream",
          "text": [
            "True\n"
          ],
          "name": "stdout"
        }
      ]
    },
    {
      "cell_type": "markdown",
      "metadata": {
        "id": "obgtuYxI8Pgq"
      },
      "source": [
        "Programa devam edelim. “sayi2” değişkenine yeni bir değer atandığını gözden kaçırmayınız.\n"
      ]
    },
    {
      "cell_type": "code",
      "metadata": {
        "id": "d-ggc5sP8Qk-",
        "colab": {
          "base_uri": "https://localhost:8080/",
          "height": 51
        },
        "outputId": "d1a93a8b-cfa5-456a-85d4-18c566c1416e"
      },
      "source": [
        "sayi2=6\n",
        "print (sayi1<sayi2)\n",
        "sayi2=6.06\n",
        "print(sayi1<sayi2)"
      ],
      "execution_count": null,
      "outputs": [
        {
          "output_type": "stream",
          "text": [
            "True\n",
            "True\n"
          ],
          "name": "stdout"
        }
      ]
    },
    {
      "cell_type": "markdown",
      "metadata": {
        "id": "gdBN_rQ596nH"
      },
      "source": [
        "**Büyük Eşittir (>=) ve Küçük Eşittir Operatörleri**\n",
        "<br>**Örnek 28:**<br>\n",
        "Büyük Eşittir (>=) ve Küçük Eşittir (<=) Operatörleri kullanımı:"
      ]
    },
    {
      "cell_type": "code",
      "metadata": {
        "id": "r8I3awq5S87A",
        "colab": {
          "base_uri": "https://localhost:8080/",
          "height": 119
        },
        "outputId": "7b136f8b-7dee-4c6a-f376-94ef4d5fcb03"
      },
      "source": [
        "sayi1=6.06\n",
        "sayi2=6.06\n",
        "print(sayi1>=sayi2)\n",
        "print (sayi1<=sayi2)\n",
        "#sayılar eşit olduğu için iki operatör de True değeri döndürecektir.\n",
        "sayi2=6.07\n",
        "print(sayi1>=sayi2)\n",
        "print(sayi1<=sayi2)\n",
        "#1.sayı 2. sayıdan küçük olduğu için sadece <= operatörü True değerini döndürecektir\n",
        "sayi2=6.05\n",
        "print(sayi1>=sayi2)\n",
        "print(sayi1<=sayi2)\n",
        "#sayi2 değişkeni 6.05 olduğu ve sayi1 sayi2 den büyük olacağı için sadece >= operaötürü True değeri döndürecektir."
      ],
      "execution_count": null,
      "outputs": [
        {
          "output_type": "stream",
          "text": [
            "True\n",
            "True\n",
            "False\n",
            "True\n",
            "True\n",
            "False\n"
          ],
          "name": "stdout"
        }
      ]
    },
    {
      "cell_type": "markdown",
      "metadata": {
        "id": "dT5XvTh_Jrsj"
      },
      "source": [
        "**Mantıksal Operatörler**\n",
        "<br>**Örnek 52**<br>\n",
        "**\"or\" Operatörü**\n"
      ]
    },
    {
      "cell_type": "code",
      "metadata": {
        "id": "uLtpQTsL_U0E"
      },
      "source": [
        "sayi1=5\n",
        "#or operatörü kullanımı\n",
        "print (sayi1<6 or sayi1>10)\n",
        "adi='Mehmet'\n",
        "print (adi=='Mehmet' or adi=='Ali')\n",
        "#Adı Mehmet veya Ali ise True değerini döndürür.\n",
        "meslekUnvani='Mühendis'\n",
        "print (meslekUnvani=='Öğretmen' or meslek=='Doktor')\n",
        "#Meslek ünvanı Öğretmen veya Doktor olmadığı için False döndürür\n",
        "print (meslekUnvani=='Öğretmen' or meslekUnvani=='Doktor' or meslekUnvani=='Mühendis')\n",
        "#Meslek Ünvanı Öğretmen veya Doktor veya Mühendis'ten biri ise True değeri döndürür.\n",
        "# İkiden fazla koşul için de kullanılabilir."
      ],
      "execution_count": null,
      "outputs": []
    },
    {
      "cell_type": "markdown",
      "metadata": {
        "id": "jDOZM6RZE9QL"
      },
      "source": [
        "**and Operatörü**<br>\n",
        "**Örnek 53**<br>"
      ]
    },
    {
      "cell_type": "code",
      "metadata": {
        "id": "64G5w3m8BEDi"
      },
      "source": [
        "ogrenciDersPuani=50\n",
        "print ( ogrenciDersPuani>50 and ogrenciDersPuani<60)\n",
        "#Bu iki koşulu da sağlıyorsa True değeri döndürür. Öğrencinin ders puanı 50 ile 60 aralığındadır.\n",
        "#Ve anlamındadır\n",
        "adi='Mehmet'\n",
        "yasi=24\n",
        "print (adi=='Mehmet' and yasi>=20)\n",
        "#Adı Mehmet ve yaşı en az 20 ise True değerini döndürür.\n",
        "meslekUnvani='Mühendis'\n",
        "askerlikDurumu='Yaptı'\n",
        "isTecrubeYil=2\n",
        "print (meslekUnvani=='Mühendis' and askerlikDurumu=='Yaptı')\n",
        "#Meslek ünvanı Mühendis ise ve askerliğini yapmışsa True değerini döndürür.\n",
        "print (meslekUnvani=='Mühendis' and askerlikDurumu=='Yaptı' and isTecrubeYil>=3)\n",
        "#Meslek ünvanı Mühendis ise, askerliğini yapmışsa ve en az 3 yıl iş tecrubesi varsa True değerini döndürür."
      ],
      "execution_count": null,
      "outputs": []
    },
    {
      "cell_type": "markdown",
      "metadata": {
        "id": "GAEAYq0ZjZ7-"
      },
      "source": [
        "**Operatörlerde Öncelik Sırası**<br>\n",
        "**Örnek 55**<br>"
      ]
    },
    {
      "cell_type": "code",
      "metadata": {
        "id": "uzX1_wcFlcHN",
        "colab": {
          "base_uri": "https://localhost:8080/",
          "height": 102
        },
        "outputId": "06ecd0db-ef58-427f-ae8e-07fc90305cae"
      },
      "source": [
        "print((3+5)*2) #Bu işlemin sonucunu tahmin edin.\n",
        "#Öncelikle parantez içi yapılacağında 8*2=16\n",
        "print (3+5*2) #Peki ya bu işlemin sonucu kaçtır.\n",
        "#Öncelikle çarpma işlemi yapılacağından 3+10=13\n",
        "print (3**2*2)\n",
        "#Üs almada bir çarpma işlemidir ancak işlemler soldan sağa yapıldığı için öncelikli olarak yapılmaktadır.\n",
        "print (6*7/7) # Bu işlemin sonucu?\n",
        "print (6*3/2+8/2*3) #Peki ya bu?\n"
      ],
      "execution_count": null,
      "outputs": [
        {
          "output_type": "stream",
          "text": [
            "16\n",
            "13\n",
            "18\n",
            "6.0\n",
            "21.0\n"
          ],
          "name": "stdout"
        }
      ]
    },
    {
      "cell_type": "markdown",
      "source": [],
      "metadata": {
        "id": "vHuD589tSAUE"
      }
    },
    {
      "cell_type": "markdown",
      "source": [
        "# **Koşul İfadeleri ve Döngüler**"
      ],
      "metadata": {
        "id": "95AJ32F_CSUW"
      }
    },
    {
      "cell_type": "markdown",
      "source": [
        "##if Yapısı"
      ],
      "metadata": {
        "id": "fcrwLQBKrz2c"
      }
    },
    {
      "cell_type": "code",
      "execution_count": null,
      "metadata": {
        "colab": {
          "base_uri": "https://localhost:8080/"
        },
        "id": "4bL6FFVyd6ze",
        "outputId": "f3a9e84e-5ca2-4998-bb6e-08b0280a9cab"
      },
      "outputs": [
        {
          "output_type": "stream",
          "name": "stdout",
          "text": [
            "Ehliyet için yaş kontrolü\n",
            "Kontrol Sonu\n"
          ]
        }
      ],
      "source": [
        "yas=17\n",
        "print(\"Ehliyet için yaş kontrolü\")\n",
        "if yas>=18:\n",
        "  print(\"Ehliyet alabilir\")\n",
        "print(\"Kontrol Sonu\")"
      ]
    },
    {
      "cell_type": "markdown",
      "source": [
        "##if else Yapısı"
      ],
      "metadata": {
        "id": "SO2SbO8p584J"
      }
    },
    {
      "cell_type": "code",
      "source": [
        "yas=17\n",
        "print(\"Ehliyet için yaş kontrolü\")\n",
        "if yas>=18:\n",
        "  print(\"Ehliyet alabilir\")\n",
        "else:\n",
        "  print(\"Ehliyet için yaşınız küçük\")\n",
        "print(\"Kontrol sonu\")"
      ],
      "metadata": {
        "colab": {
          "base_uri": "https://localhost:8080/"
        },
        "id": "zQasFCLcvf6X",
        "outputId": "237c6277-cb86-46bb-8bc7-f654759f9246"
      },
      "execution_count": null,
      "outputs": [
        {
          "output_type": "stream",
          "name": "stdout",
          "text": [
            "Ehliyet için yaş kontrolü\n",
            "Ehliyet için yaşınız küçük\n",
            "Kontrol sonu\n"
          ]
        }
      ]
    },
    {
      "cell_type": "markdown",
      "source": [
        "##if elif else Yapısı"
      ],
      "metadata": {
        "id": "Nnfak43G6BKP"
      }
    },
    {
      "cell_type": "code",
      "source": [
        "not_1 = int(input(\"Lütfen 1. sınav notunu giriniz:\"))\n",
        "not_2 = int(input(\"Lütfen 2. sınav notunu giriniz:\"))\n",
        "ortalama = (not_1 + not_2) / 2\n",
        "if ortalama < 45:\n",
        "    print (\"Başarısız\")\n",
        "elif ortalama >= 45 and ortalama < 55 :\n",
        "    print (\"Geçer\")\n",
        "elif ortalama >=55 and ortalama < 70 :\n",
        "    print (\"Orta\")\n",
        "elif ortalama >= 70 and ortalama < 85 :\n",
        "    print (\"İyi\")\n",
        "elif ortalama >=85 and ortalama < 100 :\n",
        "    print (\"Pekiyi\")"
      ],
      "metadata": {
        "id": "AaYTpTYGZdyP"
      },
      "execution_count": null,
      "outputs": []
    },
    {
      "cell_type": "markdown",
      "source": [
        "# **DÖNGÜLER**  (loop)"
      ],
      "metadata": {
        "id": "5SDsnK1YT3hL"
      }
    },
    {
      "cell_type": "markdown",
      "source": [
        "# **for Döngüsü**:Tekrar sayısı baştan belli olduğu ,ardışık eleman listesinin sırayla işleme konulduğu döngü yapısıdır."
      ],
      "metadata": {
        "id": "X0QWNm6vT8kI"
      }
    },
    {
      "cell_type": "code",
      "execution_count": null,
      "metadata": {
        "colab": {
          "base_uri": "https://localhost:8080/"
        },
        "id": "Wwt591WZ0IA8",
        "outputId": "8c89ef9b-a1a7-480f-f8aa-43143cf8b173"
      },
      "outputs": [
        {
          "output_type": "stream",
          "name": "stdout",
          "text": [
            "i\n",
            "s\n",
            "m\n",
            "e\n",
            "t\n"
          ]
        }
      ],
      "source": [
        "isim=\"ismet\"\n",
        "for i in isim:\n",
        "  print(i)"
      ]
    },
    {
      "cell_type": "code",
      "source": [
        "gunler=[\"Pazartesi\",\"Salı\",\"Çarşamba\",\"Perşembe\",\"Cuma\",\"Cumartesi\",\"Pazar\"]\n",
        "for a in gunler:\n",
        "  print(a)"
      ],
      "metadata": {
        "colab": {
          "base_uri": "https://localhost:8080/"
        },
        "id": "l3tBIRpbGtZu",
        "outputId": "f2b8b9a1-3dc8-4469-d30b-e5ab1276ccef"
      },
      "execution_count": null,
      "outputs": [
        {
          "output_type": "stream",
          "name": "stdout",
          "text": [
            "Pazartesi\n",
            "Salı\n",
            "Çarşamba\n",
            "Perşembe\n",
            "Cuma\n",
            "Cumartesi\n",
            "Pazar\n"
          ]
        }
      ]
    },
    {
      "cell_type": "code",
      "source": [
        "kelime= input (\"Lütfen bir kelime giriniz \")\n",
        "for harf in kelime:\n",
        "  print(harf)"
      ],
      "metadata": {
        "colab": {
          "base_uri": "https://localhost:8080/"
        },
        "id": "yD5lLbnDcxgw",
        "outputId": "4f763d65-8d85-4d41-fa30-4be757584b63"
      },
      "execution_count": null,
      "outputs": [
        {
          "output_type": "stream",
          "name": "stdout",
          "text": [
            "Lütfen bir kelime giriniz elma\n",
            "e\n",
            "l\n",
            "m\n",
            "a\n"
          ]
        }
      ]
    },
    {
      "cell_type": "markdown",
      "source": [
        "# **range Fonksiyonu**\n",
        "\n",
        "İstenilen aralıkta sayı dizisi oluşturmak için kullanılır."
      ],
      "metadata": {
        "id": "OBHeptygXtu8"
      }
    },
    {
      "cell_type": "code",
      "source": [
        "for i in range(10):\n",
        "      print(i)"
      ],
      "metadata": {
        "colab": {
          "base_uri": "https://localhost:8080/"
        },
        "id": "o2eTbnZT1IQ2",
        "outputId": "0078f4a4-1ba7-40d3-fc74-b8b6353f6478"
      },
      "execution_count": null,
      "outputs": [
        {
          "output_type": "stream",
          "name": "stdout",
          "text": [
            "0\n",
            "1\n",
            "2\n",
            "3\n",
            "4\n",
            "5\n",
            "6\n",
            "7\n",
            "8\n",
            "9\n"
          ]
        }
      ]
    },
    {
      "cell_type": "code",
      "source": [
        "for i in range(2,8):\n",
        "      print(i)"
      ],
      "metadata": {
        "colab": {
          "base_uri": "https://localhost:8080/"
        },
        "id": "AmTslvFO8KKg",
        "outputId": "21c24451-9827-4f58-a69e-88abd0a79081"
      },
      "execution_count": null,
      "outputs": [
        {
          "output_type": "stream",
          "name": "stdout",
          "text": [
            "2\n",
            "3\n",
            "4\n",
            "5\n",
            "6\n",
            "7\n"
          ]
        }
      ]
    },
    {
      "cell_type": "code",
      "source": [
        "for i in range(2,10,3):\n",
        "      print(i)"
      ],
      "metadata": {
        "colab": {
          "base_uri": "https://localhost:8080/"
        },
        "id": "0yE31DJNAI7Y",
        "outputId": "6cfd3812-65d3-48a5-d2e3-164a63c24e66"
      },
      "execution_count": null,
      "outputs": [
        {
          "output_type": "stream",
          "name": "stdout",
          "text": [
            "2\n",
            "5\n",
            "8\n"
          ]
        }
      ]
    },
    {
      "cell_type": "markdown",
      "source": [
        "##while Döngüsü\n",
        "\n",
        "Belirli bir koşul doğru olduğu sürece tekrar eden komutlardır."
      ],
      "metadata": {
        "id": "op12pDIjrPEJ"
      }
    },
    {
      "cell_type": "code",
      "source": [
        "sayi=1\n",
        "while sayi<=10:\n",
        "  print(sayi)\n",
        "  sayi +=1"
      ],
      "metadata": {
        "id": "WtQeBm_q7zMG"
      },
      "execution_count": null,
      "outputs": []
    },
    {
      "cell_type": "code",
      "source": [
        "sayi = 0\n",
        "while True:\n",
        "    print(sayi)\n",
        "    sayi += 1"
      ],
      "metadata": {
        "id": "sQxVqBDv6hs7"
      },
      "execution_count": null,
      "outputs": []
    },
    {
      "cell_type": "code",
      "source": [
        "toplam=0\n",
        "while True:\n",
        "  print(toplam)\n",
        "  if toplam>=100:\n",
        "    break\n",
        "  toplam=toplam+10"
      ],
      "metadata": {
        "colab": {
          "base_uri": "https://localhost:8080/"
        },
        "id": "_dGedcvednNv",
        "outputId": "09a20763-9ce8-40e8-fd47-c990bdad24f9"
      },
      "execution_count": null,
      "outputs": [
        {
          "output_type": "stream",
          "name": "stdout",
          "text": [
            "0\n",
            "10\n",
            "20\n",
            "30\n",
            "40\n",
            "50\n",
            "60\n",
            "70\n",
            "80\n",
            "90\n",
            "100\n"
          ]
        }
      ]
    },
    {
      "cell_type": "markdown",
      "source": [
        "# **SAYI TAHMİN OYUNU**"
      ],
      "metadata": {
        "id": "1H_X-h1Qkzn-"
      }
    },
    {
      "cell_type": "code",
      "source": [
        "import random\n",
        "rastgeleSayi = random.randint(1,100)\n",
        "sayac = 0\n",
        "while True :\n",
        "    cevap = int(input(\"Tahmininiz(1-100):\"))\n",
        "    sayac +=1\n",
        "    if cevap > rastgeleSayi :\n",
        "        print (\"Lütfen küçük bir sayı giriniz\")\n",
        "    elif cevap < rastgeleSayi :\n",
        "        print (\"Lütfen daha büyük bir sayı giriniz\")\n",
        "    else:\n",
        "        metin = \"Tebrikler {}.tahmininizde bildiniz\"\n",
        "        print(metin.format(sayac))\n",
        "        break"
      ],
      "metadata": {
        "id": "-3OEJNn2kxGE"
      },
      "execution_count": null,
      "outputs": []
    },
    {
      "cell_type": "markdown",
      "source": [
        "# **TAŞ KAĞIT MAKAS**"
      ],
      "metadata": {
        "id": "KavErUKrmR4x"
      }
    },
    {
      "cell_type": "code",
      "source": [],
      "metadata": {
        "id": "dBbsVRUHmXRj"
      },
      "execution_count": null,
      "outputs": []
    }
  ]
}